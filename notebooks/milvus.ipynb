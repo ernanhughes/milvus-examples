{
 "cells": [
  {
   "cell_type": "code",
   "execution_count": 1,
   "metadata": {},
   "outputs": [],
   "source": [
    "from pymilvus import MilvusClient, DataType\n",
    "\n",
    "CLUSTER_ENDPOINT = \"http://localhost:19530\"\n",
    "TOKEN = \"root:Milvus\"\n",
    "\n",
    "client = MilvusClient(\n",
    "    uri=CLUSTER_ENDPOINT,\n",
    "    token=TOKEN \n",
    ")\n"
   ]
  },
  {
   "cell_type": "code",
   "execution_count": 3,
   "metadata": {},
   "outputs": [
    {
     "name": "stdout",
     "output_type": "stream",
     "text": [
      "['customized_setup_4', 'quick_setup', 'bible_verses', 'shakespeare_sentences', 'customized_setup_1', 'customized_setup_2', 'customized_setup_3']\n",
      "Fields in the collection: ['id', 'ref', 'text', 'embedding']\n",
      "Fields in the collection: ['id', 'ref', 'sentence', 'embedding']\n"
     ]
    }
   ],
   "source": [
    "from pymilvus import connections, utility, Collection\n",
    "\n",
    "# Connect to Milvus\n",
    "connections.connect(alias=\"default\", host=\"localhost\", port=\"19530\")\n",
    "\n",
    "# List all collections\n",
    "collections = utility.list_collections()\n",
    "print(collections)\n",
    "\n",
    "bible_collection = Collection(\"bible_verses\")\n",
    "shakespeare_collection = Collection(\"shakespeare_sentences\")\n",
    "\n",
    "# Get schema information\n",
    "schema = bible_collection.schema\n",
    "\n",
    "# Print field names\n",
    "field_names = [field.name for field in schema.fields]\n",
    "print(\"Fields in the collection:\", field_names)\n",
    "\n",
    "schema = shakespeare_collection.schema\n",
    "\n",
    "# Print field names\n",
    "field_names = [field.name for field in schema.fields]\n",
    "print(\"Fields in the collection:\", field_names)\n"
   ]
  },
  {
   "cell_type": "code",
   "execution_count": 6,
   "metadata": {},
   "outputs": [
    {
     "name": "stdout",
     "output_type": "stream",
     "text": [
      "Bible Verses Collection 31102\n",
      "Shakespeare Collection 70307\n"
     ]
    }
   ],
   "source": [
    "print(\"Bible Verses Collection\", bible_collection.num_entities)\n",
    "print(\"Shakespeare Collection\", shakespeare_collection.num_entities)\n"
   ]
  },
  {
   "cell_type": "code",
   "execution_count": null,
   "metadata": {},
   "outputs": [
    {
     "name": "stdout",
     "output_type": "stream",
     "text": [
      "Index created successfully on collection 'bible'!\n"
     ]
    }
   ],
   "source": [
    "from pymilvus import connections, Collection, FieldSchema, CollectionSchema, DataType\n",
    "# Step 1: Connect to Milvus\n",
    "connections.connect(alias=\"default\", host=\"localhost\", port=\"19530\")\n",
    "\n",
    "# Step 3: Define the index parameters\n",
    "index_params = {\n",
    "    \"metric_type\": \"L2\",  # Choose metric: L2 (Euclidean), IP (Inner Product), Cosine\n",
    "    \"index_type\": \"IVF_FLAT\",  # Choose index type\n",
    "    \"params\": {\"nlist\": 128}  # Number of clusters\n",
    "}\n",
    "\n",
    "# Step 4: Create an index on the \"embedding\" field\n",
    "bible_collection.create_index(field_name=\"embedding\", index_params=index_params)\n",
    "\n",
    "print(f\"Index created successfully on collection 'bible'!\")\n"
   ]
  },
  {
   "cell_type": "code",
   "execution_count": 8,
   "metadata": {},
   "outputs": [
    {
     "name": "stdout",
     "output_type": "stream",
     "text": [
      "Index created successfully on collection 'bible'!\n"
     ]
    }
   ],
   "source": [
    "index_params = {\n",
    "    \"metric_type\": \"L2\",  # Choose metric: L2 (Euclidean), IP (Inner Product), Cosine\n",
    "    \"index_type\": \"IVF_FLAT\",  # Choose index type\n",
    "    \"params\": {\"nlist\": 128}  # Number of clusters\n",
    "}\n",
    "\n",
    "# Step 4: Create an index on the \"embedding\" field\n",
    "shakespeare_collection.create_index(field_name=\"embedding\", index_params=index_params)\n",
    "\n",
    "print(f\"Index created successfully on collection 'bible'!\")\n"
   ]
  },
  {
   "cell_type": "code",
   "execution_count": null,
   "metadata": {},
   "outputs": [
    {
     "name": "stderr",
     "output_type": "stream",
     "text": [
      "2025-03-09 23:37:12,555 [ERROR][handler]: RPC error: [load_collection], <MilvusException: (code=<bound method _MultiThreadedRendezvous.code of <_MultiThreadedRendezvous of RPC that terminated with:\n",
      "\tstatus = StatusCode.UNAVAILABLE\n",
      "\tdetails = \"failed to connect to all addresses; last error: UNAVAILABLE: ipv4:127.0.0.1:19530: ConnectEx: Connection refused (No connection could be made because the target machine actively refused it.\n",
      " -- 10061)\"\n",
      "\tdebug_error_string = \"UNKNOWN:Error received from peer  {grpc_message:\"failed to connect to all addresses; last error: UNAVAILABLE: ipv4:127.0.0.1:19530: ConnectEx: Connection refused (No connection could be made because the target machine actively refused it.\\r\\n -- 10061)\", grpc_status:14, created_time:\"2025-03-09T23:37:12.5445524+00:00\"}\"\n",
      ">>, message=Retry run out of 75 retry times, message=failed to connect to all addresses; last error: UNAVAILABLE: ipv4:127.0.0.1:19530: ConnectEx: Connection refused (No connection could be made because the target machine actively refused it.\n",
      " -- 10061))>, <Time:{'RPC start': '2025-03-09 23:33:40.506331', 'RPC error': '2025-03-09 23:37:12.554021'}> (decorators.py:140)\n"
     ]
    },
    {
     "ename": "MilvusException",
     "evalue": "<MilvusException: (code=<bound method _MultiThreadedRendezvous.code of <_MultiThreadedRendezvous of RPC that terminated with:\n\tstatus = StatusCode.UNAVAILABLE\n\tdetails = \"failed to connect to all addresses; last error: UNAVAILABLE: ipv4:127.0.0.1:19530: ConnectEx: Connection refused (No connection could be made because the target machine actively refused it.\r\n -- 10061)\"\n\tdebug_error_string = \"UNKNOWN:Error received from peer  {grpc_message:\"failed to connect to all addresses; last error: UNAVAILABLE: ipv4:127.0.0.1:19530: ConnectEx: Connection refused (No connection could be made because the target machine actively refused it.\\r\\n -- 10061)\", grpc_status:14, created_time:\"2025-03-09T23:37:12.5445524+00:00\"}\"\n>>, message=Retry run out of 75 retry times, message=failed to connect to all addresses; last error: UNAVAILABLE: ipv4:127.0.0.1:19530: ConnectEx: Connection refused (No connection could be made because the target machine actively refused it.\r\n -- 10061))>",
     "output_type": "error",
     "traceback": [
      "\u001b[31m---------------------------------------------------------------------------\u001b[39m",
      "\u001b[31mMilvusException\u001b[39m                           Traceback (most recent call last)",
      "    \u001b[31m[... skipping hidden 1 frame]\u001b[39m\n",
      "\u001b[36mCell\u001b[39m\u001b[36m \u001b[39m\u001b[32mIn[11]\u001b[39m\u001b[32m, line 1\u001b[39m\n\u001b[32m----> \u001b[39m\u001b[32m1\u001b[39m \u001b[43mbible_collection\u001b[49m\u001b[43m.\u001b[49m\u001b[43mload\u001b[49m\u001b[43m(\u001b[49m\u001b[43m)\u001b[49m\n\u001b[32m      3\u001b[39m \u001b[38;5;28mprint\u001b[39m(\u001b[33mf\u001b[39m\u001b[33m\"\u001b[39m\u001b[33mCollection \u001b[39m\u001b[33m'\u001b[39m\u001b[38;5;132;01m{\u001b[39;00mbible_collection\u001b[38;5;132;01m}\u001b[39;00m\u001b[33m'\u001b[39m\u001b[33m is loaded successfully!\u001b[39m\u001b[33m\"\u001b[39m)\n",
      "\u001b[36mFile \u001b[39m\u001b[32md:\\projects\\milvus-examples\\venv\\Lib\\site-packages\\pymilvus\\orm\\collection.py:427\u001b[39m, in \u001b[36mCollection.load\u001b[39m\u001b[34m(self, partition_names, replica_number, timeout, **kwargs)\u001b[39m\n\u001b[32m    426\u001b[39m \u001b[38;5;28;01melse\u001b[39;00m:\n\u001b[32m--> \u001b[39m\u001b[32m427\u001b[39m     \u001b[43mconn\u001b[49m\u001b[43m.\u001b[49m\u001b[43mload_collection\u001b[49m\u001b[43m(\u001b[49m\n\u001b[32m    428\u001b[39m \u001b[43m        \u001b[49m\u001b[43mcollection_name\u001b[49m\u001b[43m=\u001b[49m\u001b[38;5;28;43mself\u001b[39;49m\u001b[43m.\u001b[49m\u001b[43m_name\u001b[49m\u001b[43m,\u001b[49m\n\u001b[32m    429\u001b[39m \u001b[43m        \u001b[49m\u001b[43mreplica_number\u001b[49m\u001b[43m=\u001b[49m\u001b[43mreplica_number\u001b[49m\u001b[43m,\u001b[49m\n\u001b[32m    430\u001b[39m \u001b[43m        \u001b[49m\u001b[43mtimeout\u001b[49m\u001b[43m=\u001b[49m\u001b[43mtimeout\u001b[49m\u001b[43m,\u001b[49m\n\u001b[32m    431\u001b[39m \u001b[43m        \u001b[49m\u001b[43m*\u001b[49m\u001b[43m*\u001b[49m\u001b[43mkwargs\u001b[49m\u001b[43m,\u001b[49m\n\u001b[32m    432\u001b[39m \u001b[43m    \u001b[49m\u001b[43m)\u001b[49m\n",
      "\u001b[36mFile \u001b[39m\u001b[32md:\\projects\\milvus-examples\\venv\\Lib\\site-packages\\pymilvus\\decorators.py:141\u001b[39m, in \u001b[36merror_handler.<locals>.wrapper.<locals>.handler\u001b[39m\u001b[34m(*args, **kwargs)\u001b[39m\n\u001b[32m    140\u001b[39m     LOGGER.error(\u001b[33mf\u001b[39m\u001b[33m\"\u001b[39m\u001b[33mRPC error: [\u001b[39m\u001b[38;5;132;01m{\u001b[39;00minner_name\u001b[38;5;132;01m}\u001b[39;00m\u001b[33m], \u001b[39m\u001b[38;5;132;01m{\u001b[39;00me\u001b[38;5;132;01m}\u001b[39;00m\u001b[33m, <Time:\u001b[39m\u001b[38;5;132;01m{\u001b[39;00mrecord_dict\u001b[38;5;132;01m}\u001b[39;00m\u001b[33m>\u001b[39m\u001b[33m\"\u001b[39m)\n\u001b[32m--> \u001b[39m\u001b[32m141\u001b[39m     \u001b[38;5;28;01mraise\u001b[39;00m e \u001b[38;5;28;01mfrom\u001b[39;00m\u001b[38;5;250m \u001b[39m\u001b[34;01me\u001b[39;00m\n\u001b[32m    142\u001b[39m \u001b[38;5;28;01mexcept\u001b[39;00m grpc.FutureTimeoutError \u001b[38;5;28;01mas\u001b[39;00m e:\n",
      "\u001b[36mFile \u001b[39m\u001b[32md:\\projects\\milvus-examples\\venv\\Lib\\site-packages\\pymilvus\\decorators.py:137\u001b[39m, in \u001b[36merror_handler.<locals>.wrapper.<locals>.handler\u001b[39m\u001b[34m(*args, **kwargs)\u001b[39m\n\u001b[32m    136\u001b[39m     record_dict[\u001b[33m\"\u001b[39m\u001b[33mRPC start\u001b[39m\u001b[33m\"\u001b[39m] = \u001b[38;5;28mstr\u001b[39m(datetime.datetime.now())\n\u001b[32m--> \u001b[39m\u001b[32m137\u001b[39m     \u001b[38;5;28;01mreturn\u001b[39;00m \u001b[43mfunc\u001b[49m\u001b[43m(\u001b[49m\u001b[43m*\u001b[49m\u001b[43margs\u001b[49m\u001b[43m,\u001b[49m\u001b[43m \u001b[49m\u001b[43m*\u001b[49m\u001b[43m*\u001b[49m\u001b[43mkwargs\u001b[49m\u001b[43m)\u001b[49m\n\u001b[32m    138\u001b[39m \u001b[38;5;28;01mexcept\u001b[39;00m MilvusException \u001b[38;5;28;01mas\u001b[39;00m e:\n",
      "\u001b[36mFile \u001b[39m\u001b[32md:\\projects\\milvus-examples\\venv\\Lib\\site-packages\\pymilvus\\decorators.py:176\u001b[39m, in \u001b[36mtracing_request.<locals>.wrapper.<locals>.handler\u001b[39m\u001b[34m(self, *args, **kwargs)\u001b[39m\n\u001b[32m    175\u001b[39m     \u001b[38;5;28mself\u001b[39m.set_onetime_request_id(req_id)\n\u001b[32m--> \u001b[39m\u001b[32m176\u001b[39m \u001b[38;5;28;01mreturn\u001b[39;00m \u001b[43mfunc\u001b[49m\u001b[43m(\u001b[49m\u001b[38;5;28;43mself\u001b[39;49m\u001b[43m,\u001b[49m\u001b[43m \u001b[49m\u001b[43m*\u001b[49m\u001b[43margs\u001b[49m\u001b[43m,\u001b[49m\u001b[43m \u001b[49m\u001b[43m*\u001b[49m\u001b[43m*\u001b[49m\u001b[43mkwargs\u001b[49m\u001b[43m)\u001b[49m\n",
      "\u001b[36mFile \u001b[39m\u001b[32md:\\projects\\milvus-examples\\venv\\Lib\\site-packages\\pymilvus\\decorators.py:92\u001b[39m, in \u001b[36mretry_on_rpc_failure.<locals>.wrapper.<locals>.handler\u001b[39m\u001b[34m(*args, **kwargs)\u001b[39m\n\u001b[32m     91\u001b[39m \u001b[38;5;28;01mif\u001b[39;00m timeout(start_time):\n\u001b[32m---> \u001b[39m\u001b[32m92\u001b[39m     \u001b[38;5;28;01mraise\u001b[39;00m MilvusException(e.code, \u001b[33mf\u001b[39m\u001b[33m\"\u001b[39m\u001b[38;5;132;01m{\u001b[39;00mto_msg\u001b[38;5;132;01m}\u001b[39;00m\u001b[33m, message=\u001b[39m\u001b[38;5;132;01m{\u001b[39;00me.details()\u001b[38;5;132;01m}\u001b[39;00m\u001b[33m\"\u001b[39m) \u001b[38;5;28;01mfrom\u001b[39;00m\u001b[38;5;250m \u001b[39m\u001b[34;01me\u001b[39;00m\n\u001b[32m     94\u001b[39m \u001b[38;5;28;01mif\u001b[39;00m counter > \u001b[32m3\u001b[39m:\n",
      "\u001b[31mMilvusException\u001b[39m: <MilvusException: (code=<bound method _MultiThreadedRendezvous.code of <_MultiThreadedRendezvous of RPC that terminated with:\n\tstatus = StatusCode.UNAVAILABLE\n\tdetails = \"failed to connect to all addresses; last error: UNAVAILABLE: ipv4:127.0.0.1:19530: ConnectEx: Connection refused (No connection could be made because the target machine actively refused it.\r\n -- 10061)\"\n\tdebug_error_string = \"UNKNOWN:Error received from peer  {grpc_message:\"failed to connect to all addresses; last error: UNAVAILABLE: ipv4:127.0.0.1:19530: ConnectEx: Connection refused (No connection could be made because the target machine actively refused it.\\r\\n -- 10061)\", grpc_status:14, created_time:\"2025-03-09T23:37:12.5445524+00:00\"}\"\n>>, message=Retry run out of 75 retry times, message=failed to connect to all addresses; last error: UNAVAILABLE: ipv4:127.0.0.1:19530: ConnectEx: Connection refused (No connection could be made because the target machine actively refused it.\r\n -- 10061))>",
      "\nThe above exception was the direct cause of the following exception:\n",
      "\u001b[31mMilvusException\u001b[39m                           Traceback (most recent call last)",
      "    \u001b[31m[... skipping hidden 1 frame]\u001b[39m\n",
      "\u001b[36mCell\u001b[39m\u001b[36m \u001b[39m\u001b[32mIn[11]\u001b[39m\u001b[32m, line 1\u001b[39m\n\u001b[32m----> \u001b[39m\u001b[32m1\u001b[39m \u001b[43mbible_collection\u001b[49m\u001b[43m.\u001b[49m\u001b[43mload\u001b[49m\u001b[43m(\u001b[49m\u001b[43m)\u001b[49m\n\u001b[32m      3\u001b[39m \u001b[38;5;28mprint\u001b[39m(\u001b[33mf\u001b[39m\u001b[33m\"\u001b[39m\u001b[33mCollection \u001b[39m\u001b[33m'\u001b[39m\u001b[38;5;132;01m{\u001b[39;00mbible_collection\u001b[38;5;132;01m}\u001b[39;00m\u001b[33m'\u001b[39m\u001b[33m is loaded successfully!\u001b[39m\u001b[33m\"\u001b[39m)\n",
      "\u001b[36mFile \u001b[39m\u001b[32md:\\projects\\milvus-examples\\venv\\Lib\\site-packages\\pymilvus\\orm\\collection.py:427\u001b[39m, in \u001b[36mCollection.load\u001b[39m\u001b[34m(self, partition_names, replica_number, timeout, **kwargs)\u001b[39m\n\u001b[32m    426\u001b[39m \u001b[38;5;28;01melse\u001b[39;00m:\n\u001b[32m--> \u001b[39m\u001b[32m427\u001b[39m     \u001b[43mconn\u001b[49m\u001b[43m.\u001b[49m\u001b[43mload_collection\u001b[49m\u001b[43m(\u001b[49m\n\u001b[32m    428\u001b[39m \u001b[43m        \u001b[49m\u001b[43mcollection_name\u001b[49m\u001b[43m=\u001b[49m\u001b[38;5;28;43mself\u001b[39;49m\u001b[43m.\u001b[49m\u001b[43m_name\u001b[49m\u001b[43m,\u001b[49m\n\u001b[32m    429\u001b[39m \u001b[43m        \u001b[49m\u001b[43mreplica_number\u001b[49m\u001b[43m=\u001b[49m\u001b[43mreplica_number\u001b[49m\u001b[43m,\u001b[49m\n\u001b[32m    430\u001b[39m \u001b[43m        \u001b[49m\u001b[43mtimeout\u001b[49m\u001b[43m=\u001b[49m\u001b[43mtimeout\u001b[49m\u001b[43m,\u001b[49m\n\u001b[32m    431\u001b[39m \u001b[43m        \u001b[49m\u001b[43m*\u001b[49m\u001b[43m*\u001b[49m\u001b[43mkwargs\u001b[49m\u001b[43m,\u001b[49m\n\u001b[32m    432\u001b[39m \u001b[43m    \u001b[49m\u001b[43m)\u001b[49m\n",
      "\u001b[36mFile \u001b[39m\u001b[32md:\\projects\\milvus-examples\\venv\\Lib\\site-packages\\pymilvus\\decorators.py:141\u001b[39m, in \u001b[36merror_handler.<locals>.wrapper.<locals>.handler\u001b[39m\u001b[34m(*args, **kwargs)\u001b[39m\n\u001b[32m    140\u001b[39m     LOGGER.error(\u001b[33mf\u001b[39m\u001b[33m\"\u001b[39m\u001b[33mRPC error: [\u001b[39m\u001b[38;5;132;01m{\u001b[39;00minner_name\u001b[38;5;132;01m}\u001b[39;00m\u001b[33m], \u001b[39m\u001b[38;5;132;01m{\u001b[39;00me\u001b[38;5;132;01m}\u001b[39;00m\u001b[33m, <Time:\u001b[39m\u001b[38;5;132;01m{\u001b[39;00mrecord_dict\u001b[38;5;132;01m}\u001b[39;00m\u001b[33m>\u001b[39m\u001b[33m\"\u001b[39m)\n\u001b[32m--> \u001b[39m\u001b[32m141\u001b[39m     \u001b[38;5;28;01mraise\u001b[39;00m e \u001b[38;5;28;01mfrom\u001b[39;00m\u001b[38;5;250m \u001b[39m\u001b[34;01me\u001b[39;00m\n\u001b[32m    142\u001b[39m \u001b[38;5;28;01mexcept\u001b[39;00m grpc.FutureTimeoutError \u001b[38;5;28;01mas\u001b[39;00m e:\n",
      "\u001b[36mFile \u001b[39m\u001b[32md:\\projects\\milvus-examples\\venv\\Lib\\site-packages\\pymilvus\\decorators.py:137\u001b[39m, in \u001b[36merror_handler.<locals>.wrapper.<locals>.handler\u001b[39m\u001b[34m(*args, **kwargs)\u001b[39m\n\u001b[32m    136\u001b[39m     record_dict[\u001b[33m\"\u001b[39m\u001b[33mRPC start\u001b[39m\u001b[33m\"\u001b[39m] = \u001b[38;5;28mstr\u001b[39m(datetime.datetime.now())\n\u001b[32m--> \u001b[39m\u001b[32m137\u001b[39m     \u001b[38;5;28;01mreturn\u001b[39;00m \u001b[43mfunc\u001b[49m\u001b[43m(\u001b[49m\u001b[43m*\u001b[49m\u001b[43margs\u001b[49m\u001b[43m,\u001b[49m\u001b[43m \u001b[49m\u001b[43m*\u001b[49m\u001b[43m*\u001b[49m\u001b[43mkwargs\u001b[49m\u001b[43m)\u001b[49m\n\u001b[32m    138\u001b[39m \u001b[38;5;28;01mexcept\u001b[39;00m MilvusException \u001b[38;5;28;01mas\u001b[39;00m e:\n",
      "\u001b[36mFile \u001b[39m\u001b[32md:\\projects\\milvus-examples\\venv\\Lib\\site-packages\\pymilvus\\decorators.py:176\u001b[39m, in \u001b[36mtracing_request.<locals>.wrapper.<locals>.handler\u001b[39m\u001b[34m(self, *args, **kwargs)\u001b[39m\n\u001b[32m    175\u001b[39m     \u001b[38;5;28mself\u001b[39m.set_onetime_request_id(req_id)\n\u001b[32m--> \u001b[39m\u001b[32m176\u001b[39m \u001b[38;5;28;01mreturn\u001b[39;00m \u001b[43mfunc\u001b[49m\u001b[43m(\u001b[49m\u001b[38;5;28;43mself\u001b[39;49m\u001b[43m,\u001b[49m\u001b[43m \u001b[49m\u001b[43m*\u001b[49m\u001b[43margs\u001b[49m\u001b[43m,\u001b[49m\u001b[43m \u001b[49m\u001b[43m*\u001b[49m\u001b[43m*\u001b[49m\u001b[43mkwargs\u001b[49m\u001b[43m)\u001b[49m\n",
      "\u001b[36mFile \u001b[39m\u001b[32md:\\projects\\milvus-examples\\venv\\Lib\\site-packages\\pymilvus\\decorators.py:92\u001b[39m, in \u001b[36mretry_on_rpc_failure.<locals>.wrapper.<locals>.handler\u001b[39m\u001b[34m(*args, **kwargs)\u001b[39m\n\u001b[32m     91\u001b[39m \u001b[38;5;28;01mif\u001b[39;00m timeout(start_time):\n\u001b[32m---> \u001b[39m\u001b[32m92\u001b[39m     \u001b[38;5;28;01mraise\u001b[39;00m MilvusException(e.code, \u001b[33mf\u001b[39m\u001b[33m\"\u001b[39m\u001b[38;5;132;01m{\u001b[39;00mto_msg\u001b[38;5;132;01m}\u001b[39;00m\u001b[33m, message=\u001b[39m\u001b[38;5;132;01m{\u001b[39;00me.details()\u001b[38;5;132;01m}\u001b[39;00m\u001b[33m\"\u001b[39m) \u001b[38;5;28;01mfrom\u001b[39;00m\u001b[38;5;250m \u001b[39m\u001b[34;01me\u001b[39;00m\n\u001b[32m     94\u001b[39m \u001b[38;5;28;01mif\u001b[39;00m counter > \u001b[32m3\u001b[39m:\n",
      "\u001b[31mMilvusException\u001b[39m: <MilvusException: (code=<bound method _MultiThreadedRendezvous.code of <_MultiThreadedRendezvous of RPC that terminated with:\n\tstatus = StatusCode.UNAVAILABLE\n\tdetails = \"failed to connect to all addresses; last error: UNAVAILABLE: ipv4:127.0.0.1:19530: ConnectEx: Connection refused (No connection could be made because the target machine actively refused it.\r\n -- 10061)\"\n\tdebug_error_string = \"UNKNOWN:Error received from peer  {grpc_message:\"failed to connect to all addresses; last error: UNAVAILABLE: ipv4:127.0.0.1:19530: ConnectEx: Connection refused (No connection could be made because the target machine actively refused it.\\r\\n -- 10061)\", grpc_status:14, created_time:\"2025-03-09T23:37:12.5445524+00:00\"}\"\n>>, message=Retry run out of 75 retry times, message=failed to connect to all addresses; last error: UNAVAILABLE: ipv4:127.0.0.1:19530: ConnectEx: Connection refused (No connection could be made because the target machine actively refused it.\r\n -- 10061))>",
      "\nThe above exception was the direct cause of the following exception:\n",
      "\u001b[31mMilvusException\u001b[39m                           Traceback (most recent call last)",
      "\u001b[36mCell\u001b[39m\u001b[36m \u001b[39m\u001b[32mIn[11]\u001b[39m\u001b[32m, line 1\u001b[39m\n\u001b[32m----> \u001b[39m\u001b[32m1\u001b[39m \u001b[43mbible_collection\u001b[49m\u001b[43m.\u001b[49m\u001b[43mload\u001b[49m\u001b[43m(\u001b[49m\u001b[43m)\u001b[49m\n\u001b[32m      3\u001b[39m \u001b[38;5;28mprint\u001b[39m(\u001b[33mf\u001b[39m\u001b[33m\"\u001b[39m\u001b[33mCollection \u001b[39m\u001b[33m'\u001b[39m\u001b[38;5;132;01m{\u001b[39;00mbible_collection\u001b[38;5;132;01m}\u001b[39;00m\u001b[33m'\u001b[39m\u001b[33m is loaded successfully!\u001b[39m\u001b[33m\"\u001b[39m)\n\u001b[32m      5\u001b[39m shakespeare_collection.load()\n",
      "\u001b[36mFile \u001b[39m\u001b[32md:\\projects\\milvus-examples\\venv\\Lib\\site-packages\\pymilvus\\orm\\collection.py:427\u001b[39m, in \u001b[36mCollection.load\u001b[39m\u001b[34m(self, partition_names, replica_number, timeout, **kwargs)\u001b[39m\n\u001b[32m    419\u001b[39m     conn.load_partitions(\n\u001b[32m    420\u001b[39m         collection_name=\u001b[38;5;28mself\u001b[39m._name,\n\u001b[32m    421\u001b[39m         partition_names=partition_names,\n\u001b[32m   (...)\u001b[39m\u001b[32m    424\u001b[39m         **kwargs,\n\u001b[32m    425\u001b[39m     )\n\u001b[32m    426\u001b[39m \u001b[38;5;28;01melse\u001b[39;00m:\n\u001b[32m--> \u001b[39m\u001b[32m427\u001b[39m     \u001b[43mconn\u001b[49m\u001b[43m.\u001b[49m\u001b[43mload_collection\u001b[49m\u001b[43m(\u001b[49m\n\u001b[32m    428\u001b[39m \u001b[43m        \u001b[49m\u001b[43mcollection_name\u001b[49m\u001b[43m=\u001b[49m\u001b[38;5;28;43mself\u001b[39;49m\u001b[43m.\u001b[49m\u001b[43m_name\u001b[49m\u001b[43m,\u001b[49m\n\u001b[32m    429\u001b[39m \u001b[43m        \u001b[49m\u001b[43mreplica_number\u001b[49m\u001b[43m=\u001b[49m\u001b[43mreplica_number\u001b[49m\u001b[43m,\u001b[49m\n\u001b[32m    430\u001b[39m \u001b[43m        \u001b[49m\u001b[43mtimeout\u001b[49m\u001b[43m=\u001b[49m\u001b[43mtimeout\u001b[49m\u001b[43m,\u001b[49m\n\u001b[32m    431\u001b[39m \u001b[43m        \u001b[49m\u001b[43m*\u001b[49m\u001b[43m*\u001b[49m\u001b[43mkwargs\u001b[49m\u001b[43m,\u001b[49m\n\u001b[32m    432\u001b[39m \u001b[43m    \u001b[49m\u001b[43m)\u001b[49m\n",
      "\u001b[36mFile \u001b[39m\u001b[32md:\\projects\\milvus-examples\\venv\\Lib\\site-packages\\pymilvus\\decorators.py:141\u001b[39m, in \u001b[36merror_handler.<locals>.wrapper.<locals>.handler\u001b[39m\u001b[34m(*args, **kwargs)\u001b[39m\n\u001b[32m    139\u001b[39m     record_dict[\u001b[33m\"\u001b[39m\u001b[33mRPC error\u001b[39m\u001b[33m\"\u001b[39m] = \u001b[38;5;28mstr\u001b[39m(datetime.datetime.now())\n\u001b[32m    140\u001b[39m     LOGGER.error(\u001b[33mf\u001b[39m\u001b[33m\"\u001b[39m\u001b[33mRPC error: [\u001b[39m\u001b[38;5;132;01m{\u001b[39;00minner_name\u001b[38;5;132;01m}\u001b[39;00m\u001b[33m], \u001b[39m\u001b[38;5;132;01m{\u001b[39;00me\u001b[38;5;132;01m}\u001b[39;00m\u001b[33m, <Time:\u001b[39m\u001b[38;5;132;01m{\u001b[39;00mrecord_dict\u001b[38;5;132;01m}\u001b[39;00m\u001b[33m>\u001b[39m\u001b[33m\"\u001b[39m)\n\u001b[32m--> \u001b[39m\u001b[32m141\u001b[39m     \u001b[38;5;28;01mraise\u001b[39;00m e \u001b[38;5;28;01mfrom\u001b[39;00m\u001b[38;5;250m \u001b[39m\u001b[34;01me\u001b[39;00m\n\u001b[32m    142\u001b[39m \u001b[38;5;28;01mexcept\u001b[39;00m grpc.FutureTimeoutError \u001b[38;5;28;01mas\u001b[39;00m e:\n\u001b[32m    143\u001b[39m     record_dict[\u001b[33m\"\u001b[39m\u001b[33mgRPC timeout\u001b[39m\u001b[33m\"\u001b[39m] = \u001b[38;5;28mstr\u001b[39m(datetime.datetime.now())\n",
      "\u001b[36mFile \u001b[39m\u001b[32md:\\projects\\milvus-examples\\venv\\Lib\\site-packages\\pymilvus\\decorators.py:137\u001b[39m, in \u001b[36merror_handler.<locals>.wrapper.<locals>.handler\u001b[39m\u001b[34m(*args, **kwargs)\u001b[39m\n\u001b[32m    135\u001b[39m \u001b[38;5;28;01mtry\u001b[39;00m:\n\u001b[32m    136\u001b[39m     record_dict[\u001b[33m\"\u001b[39m\u001b[33mRPC start\u001b[39m\u001b[33m\"\u001b[39m] = \u001b[38;5;28mstr\u001b[39m(datetime.datetime.now())\n\u001b[32m--> \u001b[39m\u001b[32m137\u001b[39m     \u001b[38;5;28;01mreturn\u001b[39;00m \u001b[43mfunc\u001b[49m\u001b[43m(\u001b[49m\u001b[43m*\u001b[49m\u001b[43margs\u001b[49m\u001b[43m,\u001b[49m\u001b[43m \u001b[49m\u001b[43m*\u001b[49m\u001b[43m*\u001b[49m\u001b[43mkwargs\u001b[49m\u001b[43m)\u001b[49m\n\u001b[32m    138\u001b[39m \u001b[38;5;28;01mexcept\u001b[39;00m MilvusException \u001b[38;5;28;01mas\u001b[39;00m e:\n\u001b[32m    139\u001b[39m     record_dict[\u001b[33m\"\u001b[39m\u001b[33mRPC error\u001b[39m\u001b[33m\"\u001b[39m] = \u001b[38;5;28mstr\u001b[39m(datetime.datetime.now())\n",
      "\u001b[36mFile \u001b[39m\u001b[32md:\\projects\\milvus-examples\\venv\\Lib\\site-packages\\pymilvus\\decorators.py:176\u001b[39m, in \u001b[36mtracing_request.<locals>.wrapper.<locals>.handler\u001b[39m\u001b[34m(self, *args, **kwargs)\u001b[39m\n\u001b[32m    174\u001b[39m \u001b[38;5;28;01mif\u001b[39;00m req_id:\n\u001b[32m    175\u001b[39m     \u001b[38;5;28mself\u001b[39m.set_onetime_request_id(req_id)\n\u001b[32m--> \u001b[39m\u001b[32m176\u001b[39m \u001b[38;5;28;01mreturn\u001b[39;00m \u001b[43mfunc\u001b[49m\u001b[43m(\u001b[49m\u001b[38;5;28;43mself\u001b[39;49m\u001b[43m,\u001b[49m\u001b[43m \u001b[49m\u001b[43m*\u001b[49m\u001b[43margs\u001b[49m\u001b[43m,\u001b[49m\u001b[43m \u001b[49m\u001b[43m*\u001b[49m\u001b[43m*\u001b[49m\u001b[43mkwargs\u001b[49m\u001b[43m)\u001b[49m\n",
      "\u001b[36mFile \u001b[39m\u001b[32md:\\projects\\milvus-examples\\venv\\Lib\\site-packages\\pymilvus\\decorators.py:92\u001b[39m, in \u001b[36mretry_on_rpc_failure.<locals>.wrapper.<locals>.handler\u001b[39m\u001b[34m(*args, **kwargs)\u001b[39m\n\u001b[32m     90\u001b[39m     \u001b[38;5;28;01mraise\u001b[39;00m e \u001b[38;5;28;01mfrom\u001b[39;00m\u001b[38;5;250m \u001b[39m\u001b[34;01me\u001b[39;00m\n\u001b[32m     91\u001b[39m \u001b[38;5;28;01mif\u001b[39;00m timeout(start_time):\n\u001b[32m---> \u001b[39m\u001b[32m92\u001b[39m     \u001b[38;5;28;01mraise\u001b[39;00m MilvusException(e.code, \u001b[33mf\u001b[39m\u001b[33m\"\u001b[39m\u001b[38;5;132;01m{\u001b[39;00mto_msg\u001b[38;5;132;01m}\u001b[39;00m\u001b[33m, message=\u001b[39m\u001b[38;5;132;01m{\u001b[39;00me.details()\u001b[38;5;132;01m}\u001b[39;00m\u001b[33m\"\u001b[39m) \u001b[38;5;28;01mfrom\u001b[39;00m\u001b[38;5;250m \u001b[39m\u001b[34;01me\u001b[39;00m\n\u001b[32m     94\u001b[39m \u001b[38;5;28;01mif\u001b[39;00m counter > \u001b[32m3\u001b[39m:\n\u001b[32m     95\u001b[39m     retry_msg = (\n\u001b[32m     96\u001b[39m         \u001b[33mf\u001b[39m\u001b[33m\"\u001b[39m\u001b[33m[\u001b[39m\u001b[38;5;132;01m{\u001b[39;00mfunc.\u001b[34m__name__\u001b[39m\u001b[38;5;132;01m}\u001b[39;00m\u001b[33m] retry:\u001b[39m\u001b[38;5;132;01m{\u001b[39;00mcounter\u001b[38;5;132;01m}\u001b[39;00m\u001b[33m, cost: \u001b[39m\u001b[38;5;132;01m{\u001b[39;00mback_off\u001b[38;5;132;01m:\u001b[39;00m\u001b[33m.2f\u001b[39m\u001b[38;5;132;01m}\u001b[39;00m\u001b[33ms, \u001b[39m\u001b[33m\"\u001b[39m\n\u001b[32m     97\u001b[39m         \u001b[33mf\u001b[39m\u001b[33m\"\u001b[39m\u001b[33mreason: <\u001b[39m\u001b[38;5;132;01m{\u001b[39;00me.\u001b[34m__class__\u001b[39m.\u001b[34m__name__\u001b[39m\u001b[38;5;132;01m}\u001b[39;00m\u001b[33m: \u001b[39m\u001b[38;5;132;01m{\u001b[39;00me.code()\u001b[38;5;132;01m}\u001b[39;00m\u001b[33m, \u001b[39m\u001b[38;5;132;01m{\u001b[39;00me.details()\u001b[38;5;132;01m}\u001b[39;00m\u001b[33m>\u001b[39m\u001b[33m\"\u001b[39m\n\u001b[32m     98\u001b[39m     )\n",
      "\u001b[31mMilvusException\u001b[39m: <MilvusException: (code=<bound method _MultiThreadedRendezvous.code of <_MultiThreadedRendezvous of RPC that terminated with:\n\tstatus = StatusCode.UNAVAILABLE\n\tdetails = \"failed to connect to all addresses; last error: UNAVAILABLE: ipv4:127.0.0.1:19530: ConnectEx: Connection refused (No connection could be made because the target machine actively refused it.\r\n -- 10061)\"\n\tdebug_error_string = \"UNKNOWN:Error received from peer  {grpc_message:\"failed to connect to all addresses; last error: UNAVAILABLE: ipv4:127.0.0.1:19530: ConnectEx: Connection refused (No connection could be made because the target machine actively refused it.\\r\\n -- 10061)\", grpc_status:14, created_time:\"2025-03-09T23:37:12.5445524+00:00\"}\"\n>>, message=Retry run out of 75 retry times, message=failed to connect to all addresses; last error: UNAVAILABLE: ipv4:127.0.0.1:19530: ConnectEx: Connection refused (No connection could be made because the target machine actively refused it.\r\n -- 10061))>"
     ]
    },
    {
     "ename": "",
     "evalue": "",
     "output_type": "error",
     "traceback": [
      "\u001b[1;31mThe Kernel crashed while executing code in the current cell or a previous cell. \n",
      "\u001b[1;31mPlease review the code in the cell(s) to identify a possible cause of the failure. \n",
      "\u001b[1;31mClick <a href='https://aka.ms/vscodeJupyterKernelCrash'>here</a> for more info. \n",
      "\u001b[1;31mView Jupyter <a href='command:jupyter.viewOutput'>log</a> for further details."
     ]
    }
   ],
   "source": [
    "bible_collection.load()\n",
    "\n",
    "print(f\"Collection '{bible_collection}' is loaded successfully!\")\n",
    "\n",
    "shakespeare_collection.load()\n",
    "\n",
    "print(f\"Collection '{shakespeare_collection}' is loaded successfully!\")\n"
   ]
  }
 ],
 "metadata": {
  "kernelspec": {
   "display_name": "venv",
   "language": "python",
   "name": "python3"
  },
  "language_info": {
   "codemirror_mode": {
    "name": "ipython",
    "version": 3
   },
   "file_extension": ".py",
   "mimetype": "text/x-python",
   "name": "python",
   "nbconvert_exporter": "python",
   "pygments_lexer": "ipython3",
   "version": "3.11.4"
  }
 },
 "nbformat": 4,
 "nbformat_minor": 2
}
